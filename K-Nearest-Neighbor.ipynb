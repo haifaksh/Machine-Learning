{
 "cells": [
  {
   "cell_type": "markdown",
   "id": "7fa3692f",
   "metadata": {},
   "source": [
    "# K-Nearest Neighbor\n",
    "\n",
    "by Haifa Altalili"
   ]
  },
  {
   "cell_type": "code",
   "execution_count": 1,
   "id": "223e2b88",
   "metadata": {},
   "outputs": [],
   "source": [
    "import numpy as np\n",
    "import pandas as pd\n",
    "import matplotlib.pyplot as plt\n",
    "import seaborn as sns\n",
    "import os\n",
    "\n",
    "from collections import defaultdict"
   ]
  },
  {
   "cell_type": "markdown",
   "id": "1faee576",
   "metadata": {},
   "source": [
    "## 1. Exploratory Data Analysis\n",
    "\n",
    "The dataset that will be used in this notebook is the cancer dataset from the below source:\n",
    "https://dq-content.s3.amazonaws.com/433/SMSSpamCollection"
   ]
  },
  {
   "cell_type": "code",
   "execution_count": 2,
   "id": "b4e152aa",
   "metadata": {},
   "outputs": [
    {
     "name": "stdout",
     "output_type": "stream",
     "text": [
      "Current Working Directory: /Users/haifamohamed/Documents/MBZUAI Master/Courses Material/AI701/Week 4/Lab\n",
      "Path of Data File: /Users/haifamohamed/Documents/MBZUAI Master/Courses Material/AI701/Week 4/Lab/breast-cancer-wisconsin.data \n",
      "\n"
     ]
    },
    {
     "data": {
      "text/html": [
       "<div>\n",
       "<style scoped>\n",
       "    .dataframe tbody tr th:only-of-type {\n",
       "        vertical-align: middle;\n",
       "    }\n",
       "\n",
       "    .dataframe tbody tr th {\n",
       "        vertical-align: top;\n",
       "    }\n",
       "\n",
       "    .dataframe thead th {\n",
       "        text-align: right;\n",
       "    }\n",
       "</style>\n",
       "<table border=\"1\" class=\"dataframe\">\n",
       "  <thead>\n",
       "    <tr style=\"text-align: right;\">\n",
       "      <th></th>\n",
       "      <th>0</th>\n",
       "      <th>1</th>\n",
       "      <th>2</th>\n",
       "      <th>3</th>\n",
       "      <th>4</th>\n",
       "      <th>5</th>\n",
       "      <th>6</th>\n",
       "      <th>7</th>\n",
       "      <th>8</th>\n",
       "      <th>9</th>\n",
       "      <th>10</th>\n",
       "    </tr>\n",
       "  </thead>\n",
       "  <tbody>\n",
       "    <tr>\n",
       "      <th>0</th>\n",
       "      <td>1000025</td>\n",
       "      <td>5</td>\n",
       "      <td>1</td>\n",
       "      <td>1</td>\n",
       "      <td>1</td>\n",
       "      <td>2</td>\n",
       "      <td>1</td>\n",
       "      <td>3</td>\n",
       "      <td>1</td>\n",
       "      <td>1</td>\n",
       "      <td>2</td>\n",
       "    </tr>\n",
       "    <tr>\n",
       "      <th>1</th>\n",
       "      <td>1002945</td>\n",
       "      <td>5</td>\n",
       "      <td>4</td>\n",
       "      <td>4</td>\n",
       "      <td>5</td>\n",
       "      <td>7</td>\n",
       "      <td>10</td>\n",
       "      <td>3</td>\n",
       "      <td>2</td>\n",
       "      <td>1</td>\n",
       "      <td>2</td>\n",
       "    </tr>\n",
       "    <tr>\n",
       "      <th>2</th>\n",
       "      <td>1015425</td>\n",
       "      <td>3</td>\n",
       "      <td>1</td>\n",
       "      <td>1</td>\n",
       "      <td>1</td>\n",
       "      <td>2</td>\n",
       "      <td>2</td>\n",
       "      <td>3</td>\n",
       "      <td>1</td>\n",
       "      <td>1</td>\n",
       "      <td>2</td>\n",
       "    </tr>\n",
       "    <tr>\n",
       "      <th>3</th>\n",
       "      <td>1016277</td>\n",
       "      <td>6</td>\n",
       "      <td>8</td>\n",
       "      <td>8</td>\n",
       "      <td>1</td>\n",
       "      <td>3</td>\n",
       "      <td>4</td>\n",
       "      <td>3</td>\n",
       "      <td>7</td>\n",
       "      <td>1</td>\n",
       "      <td>2</td>\n",
       "    </tr>\n",
       "    <tr>\n",
       "      <th>4</th>\n",
       "      <td>1017023</td>\n",
       "      <td>4</td>\n",
       "      <td>1</td>\n",
       "      <td>1</td>\n",
       "      <td>3</td>\n",
       "      <td>2</td>\n",
       "      <td>1</td>\n",
       "      <td>3</td>\n",
       "      <td>1</td>\n",
       "      <td>1</td>\n",
       "      <td>2</td>\n",
       "    </tr>\n",
       "    <tr>\n",
       "      <th>...</th>\n",
       "      <td>...</td>\n",
       "      <td>...</td>\n",
       "      <td>...</td>\n",
       "      <td>...</td>\n",
       "      <td>...</td>\n",
       "      <td>...</td>\n",
       "      <td>...</td>\n",
       "      <td>...</td>\n",
       "      <td>...</td>\n",
       "      <td>...</td>\n",
       "      <td>...</td>\n",
       "    </tr>\n",
       "    <tr>\n",
       "      <th>694</th>\n",
       "      <td>776715</td>\n",
       "      <td>3</td>\n",
       "      <td>1</td>\n",
       "      <td>1</td>\n",
       "      <td>1</td>\n",
       "      <td>3</td>\n",
       "      <td>2</td>\n",
       "      <td>1</td>\n",
       "      <td>1</td>\n",
       "      <td>1</td>\n",
       "      <td>2</td>\n",
       "    </tr>\n",
       "    <tr>\n",
       "      <th>695</th>\n",
       "      <td>841769</td>\n",
       "      <td>2</td>\n",
       "      <td>1</td>\n",
       "      <td>1</td>\n",
       "      <td>1</td>\n",
       "      <td>2</td>\n",
       "      <td>1</td>\n",
       "      <td>1</td>\n",
       "      <td>1</td>\n",
       "      <td>1</td>\n",
       "      <td>2</td>\n",
       "    </tr>\n",
       "    <tr>\n",
       "      <th>696</th>\n",
       "      <td>888820</td>\n",
       "      <td>5</td>\n",
       "      <td>10</td>\n",
       "      <td>10</td>\n",
       "      <td>3</td>\n",
       "      <td>7</td>\n",
       "      <td>3</td>\n",
       "      <td>8</td>\n",
       "      <td>10</td>\n",
       "      <td>2</td>\n",
       "      <td>4</td>\n",
       "    </tr>\n",
       "    <tr>\n",
       "      <th>697</th>\n",
       "      <td>897471</td>\n",
       "      <td>4</td>\n",
       "      <td>8</td>\n",
       "      <td>6</td>\n",
       "      <td>4</td>\n",
       "      <td>3</td>\n",
       "      <td>4</td>\n",
       "      <td>10</td>\n",
       "      <td>6</td>\n",
       "      <td>1</td>\n",
       "      <td>4</td>\n",
       "    </tr>\n",
       "    <tr>\n",
       "      <th>698</th>\n",
       "      <td>897471</td>\n",
       "      <td>4</td>\n",
       "      <td>8</td>\n",
       "      <td>8</td>\n",
       "      <td>5</td>\n",
       "      <td>4</td>\n",
       "      <td>5</td>\n",
       "      <td>10</td>\n",
       "      <td>4</td>\n",
       "      <td>1</td>\n",
       "      <td>4</td>\n",
       "    </tr>\n",
       "  </tbody>\n",
       "</table>\n",
       "<p>699 rows × 11 columns</p>\n",
       "</div>"
      ],
      "text/plain": [
       "          0   1   2   3   4   5   6   7   8   9   10\n",
       "0    1000025   5   1   1   1   2   1   3   1   1   2\n",
       "1    1002945   5   4   4   5   7  10   3   2   1   2\n",
       "2    1015425   3   1   1   1   2   2   3   1   1   2\n",
       "3    1016277   6   8   8   1   3   4   3   7   1   2\n",
       "4    1017023   4   1   1   3   2   1   3   1   1   2\n",
       "..       ...  ..  ..  ..  ..  ..  ..  ..  ..  ..  ..\n",
       "694   776715   3   1   1   1   3   2   1   1   1   2\n",
       "695   841769   2   1   1   1   2   1   1   1   1   2\n",
       "696   888820   5  10  10   3   7   3   8  10   2   4\n",
       "697   897471   4   8   6   4   3   4  10   6   1   4\n",
       "698   897471   4   8   8   5   4   5  10   4   1   4\n",
       "\n",
       "[699 rows x 11 columns]"
      ]
     },
     "execution_count": 2,
     "metadata": {},
     "output_type": "execute_result"
    }
   ],
   "source": [
    "cwd = os.getcwd()\n",
    "print(f'Current Working Directory: {cwd}')\n",
    "\n",
    "file_path = os.path.join(cwd,'breast-cancer-wisconsin.data')\n",
    "print(f'Path of Data File: {file_path} \\n')\n",
    "\n",
    "df = pd.read_csv( file_path, header=None)\n",
    "df"
   ]
  },
  {
   "cell_type": "code",
   "execution_count": 3,
   "id": "3a4edd81",
   "metadata": {},
   "outputs": [
    {
     "data": {
      "text/html": [
       "<div>\n",
       "<style scoped>\n",
       "    .dataframe tbody tr th:only-of-type {\n",
       "        vertical-align: middle;\n",
       "    }\n",
       "\n",
       "    .dataframe tbody tr th {\n",
       "        vertical-align: top;\n",
       "    }\n",
       "\n",
       "    .dataframe thead th {\n",
       "        text-align: right;\n",
       "    }\n",
       "</style>\n",
       "<table border=\"1\" class=\"dataframe\">\n",
       "  <thead>\n",
       "    <tr style=\"text-align: right;\">\n",
       "      <th></th>\n",
       "      <th>0</th>\n",
       "      <th>1</th>\n",
       "      <th>2</th>\n",
       "      <th>3</th>\n",
       "      <th>4</th>\n",
       "      <th>5</th>\n",
       "      <th>6</th>\n",
       "      <th>7</th>\n",
       "      <th>8</th>\n",
       "      <th>9</th>\n",
       "      <th>...</th>\n",
       "      <th>689</th>\n",
       "      <th>690</th>\n",
       "      <th>691</th>\n",
       "      <th>692</th>\n",
       "      <th>693</th>\n",
       "      <th>694</th>\n",
       "      <th>695</th>\n",
       "      <th>696</th>\n",
       "      <th>697</th>\n",
       "      <th>698</th>\n",
       "    </tr>\n",
       "  </thead>\n",
       "  <tbody>\n",
       "    <tr>\n",
       "      <th>Id</th>\n",
       "      <td>1000025</td>\n",
       "      <td>1002945</td>\n",
       "      <td>1015425</td>\n",
       "      <td>1016277</td>\n",
       "      <td>1017023</td>\n",
       "      <td>1017122</td>\n",
       "      <td>1018099</td>\n",
       "      <td>1018561</td>\n",
       "      <td>1033078</td>\n",
       "      <td>1033078</td>\n",
       "      <td>...</td>\n",
       "      <td>654546</td>\n",
       "      <td>654546</td>\n",
       "      <td>695091</td>\n",
       "      <td>714039</td>\n",
       "      <td>763235</td>\n",
       "      <td>776715</td>\n",
       "      <td>841769</td>\n",
       "      <td>888820</td>\n",
       "      <td>897471</td>\n",
       "      <td>897471</td>\n",
       "    </tr>\n",
       "    <tr>\n",
       "      <th>Clump_thickness</th>\n",
       "      <td>5</td>\n",
       "      <td>5</td>\n",
       "      <td>3</td>\n",
       "      <td>6</td>\n",
       "      <td>4</td>\n",
       "      <td>8</td>\n",
       "      <td>1</td>\n",
       "      <td>2</td>\n",
       "      <td>2</td>\n",
       "      <td>4</td>\n",
       "      <td>...</td>\n",
       "      <td>1</td>\n",
       "      <td>1</td>\n",
       "      <td>5</td>\n",
       "      <td>3</td>\n",
       "      <td>3</td>\n",
       "      <td>3</td>\n",
       "      <td>2</td>\n",
       "      <td>5</td>\n",
       "      <td>4</td>\n",
       "      <td>4</td>\n",
       "    </tr>\n",
       "    <tr>\n",
       "      <th>Uniformity_Cell_Size</th>\n",
       "      <td>1</td>\n",
       "      <td>4</td>\n",
       "      <td>1</td>\n",
       "      <td>8</td>\n",
       "      <td>1</td>\n",
       "      <td>10</td>\n",
       "      <td>1</td>\n",
       "      <td>1</td>\n",
       "      <td>1</td>\n",
       "      <td>2</td>\n",
       "      <td>...</td>\n",
       "      <td>1</td>\n",
       "      <td>1</td>\n",
       "      <td>10</td>\n",
       "      <td>1</td>\n",
       "      <td>1</td>\n",
       "      <td>1</td>\n",
       "      <td>1</td>\n",
       "      <td>10</td>\n",
       "      <td>8</td>\n",
       "      <td>8</td>\n",
       "    </tr>\n",
       "    <tr>\n",
       "      <th>Uniformity_Cell_Shape</th>\n",
       "      <td>1</td>\n",
       "      <td>4</td>\n",
       "      <td>1</td>\n",
       "      <td>8</td>\n",
       "      <td>1</td>\n",
       "      <td>10</td>\n",
       "      <td>1</td>\n",
       "      <td>2</td>\n",
       "      <td>1</td>\n",
       "      <td>1</td>\n",
       "      <td>...</td>\n",
       "      <td>1</td>\n",
       "      <td>1</td>\n",
       "      <td>10</td>\n",
       "      <td>1</td>\n",
       "      <td>1</td>\n",
       "      <td>1</td>\n",
       "      <td>1</td>\n",
       "      <td>10</td>\n",
       "      <td>6</td>\n",
       "      <td>8</td>\n",
       "    </tr>\n",
       "    <tr>\n",
       "      <th>Marginal_Adhesion</th>\n",
       "      <td>1</td>\n",
       "      <td>5</td>\n",
       "      <td>1</td>\n",
       "      <td>1</td>\n",
       "      <td>3</td>\n",
       "      <td>8</td>\n",
       "      <td>1</td>\n",
       "      <td>1</td>\n",
       "      <td>1</td>\n",
       "      <td>1</td>\n",
       "      <td>...</td>\n",
       "      <td>1</td>\n",
       "      <td>3</td>\n",
       "      <td>5</td>\n",
       "      <td>1</td>\n",
       "      <td>1</td>\n",
       "      <td>1</td>\n",
       "      <td>1</td>\n",
       "      <td>3</td>\n",
       "      <td>4</td>\n",
       "      <td>5</td>\n",
       "    </tr>\n",
       "    <tr>\n",
       "      <th>Single_Epithelial_Cell_Size</th>\n",
       "      <td>2</td>\n",
       "      <td>7</td>\n",
       "      <td>2</td>\n",
       "      <td>3</td>\n",
       "      <td>2</td>\n",
       "      <td>7</td>\n",
       "      <td>2</td>\n",
       "      <td>2</td>\n",
       "      <td>2</td>\n",
       "      <td>2</td>\n",
       "      <td>...</td>\n",
       "      <td>2</td>\n",
       "      <td>2</td>\n",
       "      <td>4</td>\n",
       "      <td>2</td>\n",
       "      <td>2</td>\n",
       "      <td>3</td>\n",
       "      <td>2</td>\n",
       "      <td>7</td>\n",
       "      <td>3</td>\n",
       "      <td>4</td>\n",
       "    </tr>\n",
       "    <tr>\n",
       "      <th>Bare_Nuclei</th>\n",
       "      <td>1</td>\n",
       "      <td>10</td>\n",
       "      <td>2</td>\n",
       "      <td>4</td>\n",
       "      <td>1</td>\n",
       "      <td>10</td>\n",
       "      <td>10</td>\n",
       "      <td>1</td>\n",
       "      <td>1</td>\n",
       "      <td>1</td>\n",
       "      <td>...</td>\n",
       "      <td>1</td>\n",
       "      <td>1</td>\n",
       "      <td>5</td>\n",
       "      <td>1</td>\n",
       "      <td>1</td>\n",
       "      <td>2</td>\n",
       "      <td>1</td>\n",
       "      <td>3</td>\n",
       "      <td>4</td>\n",
       "      <td>5</td>\n",
       "    </tr>\n",
       "    <tr>\n",
       "      <th>Bland_Chromatin</th>\n",
       "      <td>3</td>\n",
       "      <td>3</td>\n",
       "      <td>3</td>\n",
       "      <td>3</td>\n",
       "      <td>3</td>\n",
       "      <td>9</td>\n",
       "      <td>3</td>\n",
       "      <td>3</td>\n",
       "      <td>1</td>\n",
       "      <td>2</td>\n",
       "      <td>...</td>\n",
       "      <td>1</td>\n",
       "      <td>1</td>\n",
       "      <td>4</td>\n",
       "      <td>1</td>\n",
       "      <td>2</td>\n",
       "      <td>1</td>\n",
       "      <td>1</td>\n",
       "      <td>8</td>\n",
       "      <td>10</td>\n",
       "      <td>10</td>\n",
       "    </tr>\n",
       "    <tr>\n",
       "      <th>Normal_Nucleoli</th>\n",
       "      <td>1</td>\n",
       "      <td>2</td>\n",
       "      <td>1</td>\n",
       "      <td>7</td>\n",
       "      <td>1</td>\n",
       "      <td>7</td>\n",
       "      <td>1</td>\n",
       "      <td>1</td>\n",
       "      <td>1</td>\n",
       "      <td>1</td>\n",
       "      <td>...</td>\n",
       "      <td>1</td>\n",
       "      <td>1</td>\n",
       "      <td>4</td>\n",
       "      <td>1</td>\n",
       "      <td>1</td>\n",
       "      <td>1</td>\n",
       "      <td>1</td>\n",
       "      <td>10</td>\n",
       "      <td>6</td>\n",
       "      <td>4</td>\n",
       "    </tr>\n",
       "    <tr>\n",
       "      <th>Mitoses</th>\n",
       "      <td>1</td>\n",
       "      <td>1</td>\n",
       "      <td>1</td>\n",
       "      <td>1</td>\n",
       "      <td>1</td>\n",
       "      <td>1</td>\n",
       "      <td>1</td>\n",
       "      <td>1</td>\n",
       "      <td>5</td>\n",
       "      <td>1</td>\n",
       "      <td>...</td>\n",
       "      <td>8</td>\n",
       "      <td>1</td>\n",
       "      <td>1</td>\n",
       "      <td>1</td>\n",
       "      <td>2</td>\n",
       "      <td>1</td>\n",
       "      <td>1</td>\n",
       "      <td>2</td>\n",
       "      <td>1</td>\n",
       "      <td>1</td>\n",
       "    </tr>\n",
       "    <tr>\n",
       "      <th>Class</th>\n",
       "      <td>2</td>\n",
       "      <td>2</td>\n",
       "      <td>2</td>\n",
       "      <td>2</td>\n",
       "      <td>2</td>\n",
       "      <td>4</td>\n",
       "      <td>2</td>\n",
       "      <td>2</td>\n",
       "      <td>2</td>\n",
       "      <td>2</td>\n",
       "      <td>...</td>\n",
       "      <td>2</td>\n",
       "      <td>2</td>\n",
       "      <td>4</td>\n",
       "      <td>2</td>\n",
       "      <td>2</td>\n",
       "      <td>2</td>\n",
       "      <td>2</td>\n",
       "      <td>4</td>\n",
       "      <td>4</td>\n",
       "      <td>4</td>\n",
       "    </tr>\n",
       "  </tbody>\n",
       "</table>\n",
       "<p>11 rows × 699 columns</p>\n",
       "</div>"
      ],
      "text/plain": [
       "                                 0        1        2        3        4    \\\n",
       "Id                           1000025  1002945  1015425  1016277  1017023   \n",
       "Clump_thickness                    5        5        3        6        4   \n",
       "Uniformity_Cell_Size               1        4        1        8        1   \n",
       "Uniformity_Cell_Shape              1        4        1        8        1   \n",
       "Marginal_Adhesion                  1        5        1        1        3   \n",
       "Single_Epithelial_Cell_Size        2        7        2        3        2   \n",
       "Bare_Nuclei                        1       10        2        4        1   \n",
       "Bland_Chromatin                    3        3        3        3        3   \n",
       "Normal_Nucleoli                    1        2        1        7        1   \n",
       "Mitoses                            1        1        1        1        1   \n",
       "Class                              2        2        2        2        2   \n",
       "\n",
       "                                 5        6        7        8        9    ...  \\\n",
       "Id                           1017122  1018099  1018561  1033078  1033078  ...   \n",
       "Clump_thickness                    8        1        2        2        4  ...   \n",
       "Uniformity_Cell_Size              10        1        1        1        2  ...   \n",
       "Uniformity_Cell_Shape             10        1        2        1        1  ...   \n",
       "Marginal_Adhesion                  8        1        1        1        1  ...   \n",
       "Single_Epithelial_Cell_Size        7        2        2        2        2  ...   \n",
       "Bare_Nuclei                       10       10        1        1        1  ...   \n",
       "Bland_Chromatin                    9        3        3        1        2  ...   \n",
       "Normal_Nucleoli                    7        1        1        1        1  ...   \n",
       "Mitoses                            1        1        1        5        1  ...   \n",
       "Class                              4        2        2        2        2  ...   \n",
       "\n",
       "                                689     690     691     692     693     694  \\\n",
       "Id                           654546  654546  695091  714039  763235  776715   \n",
       "Clump_thickness                   1       1       5       3       3       3   \n",
       "Uniformity_Cell_Size              1       1      10       1       1       1   \n",
       "Uniformity_Cell_Shape             1       1      10       1       1       1   \n",
       "Marginal_Adhesion                 1       3       5       1       1       1   \n",
       "Single_Epithelial_Cell_Size       2       2       4       2       2       3   \n",
       "Bare_Nuclei                       1       1       5       1       1       2   \n",
       "Bland_Chromatin                   1       1       4       1       2       1   \n",
       "Normal_Nucleoli                   1       1       4       1       1       1   \n",
       "Mitoses                           8       1       1       1       2       1   \n",
       "Class                             2       2       4       2       2       2   \n",
       "\n",
       "                                695     696     697     698  \n",
       "Id                           841769  888820  897471  897471  \n",
       "Clump_thickness                   2       5       4       4  \n",
       "Uniformity_Cell_Size              1      10       8       8  \n",
       "Uniformity_Cell_Shape             1      10       6       8  \n",
       "Marginal_Adhesion                 1       3       4       5  \n",
       "Single_Epithelial_Cell_Size       2       7       3       4  \n",
       "Bare_Nuclei                       1       3       4       5  \n",
       "Bland_Chromatin                   1       8      10      10  \n",
       "Normal_Nucleoli                   1      10       6       4  \n",
       "Mitoses                           1       2       1       1  \n",
       "Class                             2       4       4       4  \n",
       "\n",
       "[11 rows x 699 columns]"
      ]
     },
     "execution_count": 3,
     "metadata": {},
     "output_type": "execute_result"
    }
   ],
   "source": [
    "col_names = ['Id', 'Clump_thickness', 'Uniformity_Cell_Size', 'Uniformity_Cell_Shape', 'Marginal_Adhesion', \n",
    "             'Single_Epithelial_Cell_Size', 'Bare_Nuclei', 'Bland_Chromatin', 'Normal_Nucleoli', 'Mitoses', 'Class']\n",
    "\n",
    "df.columns = col_names\n",
    "\n",
    "df.T"
   ]
  },
  {
   "cell_type": "code",
   "execution_count": 4,
   "id": "a6004824",
   "metadata": {},
   "outputs": [
    {
     "name": "stdout",
     "output_type": "stream",
     "text": [
      "<class 'pandas.core.frame.DataFrame'>\n",
      "RangeIndex: 699 entries, 0 to 698\n",
      "Data columns (total 11 columns):\n",
      " #   Column                       Non-Null Count  Dtype \n",
      "---  ------                       --------------  ----- \n",
      " 0   Id                           699 non-null    int64 \n",
      " 1   Clump_thickness              699 non-null    int64 \n",
      " 2   Uniformity_Cell_Size         699 non-null    int64 \n",
      " 3   Uniformity_Cell_Shape        699 non-null    int64 \n",
      " 4   Marginal_Adhesion            699 non-null    int64 \n",
      " 5   Single_Epithelial_Cell_Size  699 non-null    int64 \n",
      " 6   Bare_Nuclei                  699 non-null    object\n",
      " 7   Bland_Chromatin              699 non-null    int64 \n",
      " 8   Normal_Nucleoli              699 non-null    int64 \n",
      " 9   Mitoses                      699 non-null    int64 \n",
      " 10  Class                        699 non-null    int64 \n",
      "dtypes: int64(10), object(1)\n",
      "memory usage: 60.2+ KB\n"
     ]
    }
   ],
   "source": [
    "df.info()"
   ]
  },
  {
   "cell_type": "code",
   "execution_count": 5,
   "id": "d9d4fe1a",
   "metadata": {},
   "outputs": [
    {
     "data": {
      "text/plain": [
       "2    458\n",
       "4    241\n",
       "Name: Class, dtype: int64"
      ]
     },
     "execution_count": 5,
     "metadata": {},
     "output_type": "execute_result"
    }
   ],
   "source": [
    "df.Class.value_counts()"
   ]
  },
  {
   "cell_type": "code",
   "execution_count": 6,
   "id": "adebea6a",
   "metadata": {},
   "outputs": [
    {
     "data": {
      "text/plain": [
       "<AxesSubplot:>"
      ]
     },
     "execution_count": 6,
     "metadata": {},
     "output_type": "execute_result"
    },
    {
     "data": {
      "image/png": "[encoded data removed]",
      "text/plain": [
       "<Figure size 432x288 with 1 Axes>"
      ]
     },
     "metadata": {
      "needs_background": "light"
     },
     "output_type": "display_data"
    }
   ],
   "source": [
    "df.Class.value_counts().plot(kind='bar')"
   ]
  },
  {
   "cell_type": "code",
   "execution_count": 7,
   "id": "0e29bb5f",
   "metadata": {},
   "outputs": [
    {
     "data": {
      "text/plain": [
       "1     145\n",
       "5     130\n",
       "3     108\n",
       "4      80\n",
       "10     69\n",
       "2      50\n",
       "8      46\n",
       "6      34\n",
       "7      23\n",
       "9      14\n",
       "Name: Clump_thickness, dtype: int64"
      ]
     },
     "execution_count": 7,
     "metadata": {},
     "output_type": "execute_result"
    }
   ],
   "source": [
    "df.Clump_thickness.value_counts()"
   ]
  },
  {
   "cell_type": "code",
   "execution_count": 8,
   "id": "ec286367",
   "metadata": {},
   "outputs": [
    {
     "data": {
      "text/plain": [
       "<AxesSubplot:>"
      ]
     },
     "execution_count": 8,
     "metadata": {},
     "output_type": "execute_result"
    },
    {
     "data": {
      "image/png": "[encoded data removed]",
      "text/plain": [
       "<Figure size 432x288 with 1 Axes>"
      ]
     },
     "metadata": {
      "needs_background": "light"
     },
     "output_type": "display_data"
    }
   ],
   "source": [
    "df.Clump_thickness.value_counts().plot(kind='bar')"
   ]
  },
  {
   "cell_type": "code",
   "execution_count": 9,
   "id": "38df84ca",
   "metadata": {},
   "outputs": [
    {
     "data": {
      "text/plain": [
       "<AxesSubplot:xlabel='Clump_thickness', ylabel='count'>"
      ]
     },
     "execution_count": 9,
     "metadata": {},
     "output_type": "execute_result"
    },
    {
     "data": {
      "image/png": "[encoded data removed]",
      "text/plain": [
       "<Figure size 432x288 with 1 Axes>"
      ]
     },
     "metadata": {
      "needs_background": "light"
     },
     "output_type": "display_data"
    }
   ],
   "source": [
    "sns.countplot(x='Clump_thickness', hue='Class', data=df)"
   ]
  },
  {
   "cell_type": "code",
   "execution_count": 10,
   "id": "64c559e4",
   "metadata": {},
   "outputs": [
    {
     "data": {
      "text/plain": [
       "Id                             0\n",
       "Clump_thickness                0\n",
       "Uniformity_Cell_Size           0\n",
       "Uniformity_Cell_Shape          0\n",
       "Marginal_Adhesion              0\n",
       "Single_Epithelial_Cell_Size    0\n",
       "Bare_Nuclei                    0\n",
       "Bland_Chromatin                0\n",
       "Normal_Nucleoli                0\n",
       "Mitoses                        0\n",
       "Class                          0\n",
       "dtype: int64"
      ]
     },
     "execution_count": 10,
     "metadata": {},
     "output_type": "execute_result"
    }
   ],
   "source": [
    "df.isna().sum()"
   ]
  },
  {
   "cell_type": "code",
   "execution_count": 11,
   "id": "6a5ab5b9",
   "metadata": {},
   "outputs": [
    {
     "data": {
      "text/plain": [
       "Id                               int64\n",
       "Clump_thickness                  int64\n",
       "Uniformity_Cell_Size             int64\n",
       "Uniformity_Cell_Shape            int64\n",
       "Marginal_Adhesion                int64\n",
       "Single_Epithelial_Cell_Size      int64\n",
       "Bare_Nuclei                    float64\n",
       "Bland_Chromatin                  int64\n",
       "Normal_Nucleoli                  int64\n",
       "Mitoses                          int64\n",
       "Class                            int64\n",
       "dtype: object"
      ]
     },
     "execution_count": 11,
     "metadata": {},
     "output_type": "execute_result"
    }
   ],
   "source": [
    "df['Bare_Nuclei'] = pd.to_numeric(df['Bare_Nuclei'], errors='coerce')\n",
    "df.dtypes"
   ]
  },
  {
   "cell_type": "code",
   "execution_count": 12,
   "id": "7490d5f8",
   "metadata": {},
   "outputs": [
    {
     "data": {
      "text/plain": [
       "Id                              0\n",
       "Clump_thickness                 0\n",
       "Uniformity_Cell_Size            0\n",
       "Uniformity_Cell_Shape           0\n",
       "Marginal_Adhesion               0\n",
       "Single_Epithelial_Cell_Size     0\n",
       "Bare_Nuclei                    16\n",
       "Bland_Chromatin                 0\n",
       "Normal_Nucleoli                 0\n",
       "Mitoses                         0\n",
       "Class                           0\n",
       "dtype: int64"
      ]
     },
     "execution_count": 12,
     "metadata": {},
     "output_type": "execute_result"
    }
   ],
   "source": [
    "df.isna().sum()"
   ]
  },
  {
   "cell_type": "code",
   "execution_count": 13,
   "id": "e0d04280",
   "metadata": {},
   "outputs": [],
   "source": [
    "df.Bare_Nuclei.fillna(df.Bare_Nuclei.median(), inplace=True)"
   ]
  },
  {
   "cell_type": "code",
   "execution_count": 14,
   "id": "ef50033d",
   "metadata": {},
   "outputs": [
    {
     "data": {
      "text/plain": [
       "Id                             0\n",
       "Clump_thickness                0\n",
       "Uniformity_Cell_Size           0\n",
       "Uniformity_Cell_Shape          0\n",
       "Marginal_Adhesion              0\n",
       "Single_Epithelial_Cell_Size    0\n",
       "Bare_Nuclei                    0\n",
       "Bland_Chromatin                0\n",
       "Normal_Nucleoli                0\n",
       "Mitoses                        0\n",
       "Class                          0\n",
       "dtype: int64"
      ]
     },
     "execution_count": 14,
     "metadata": {},
     "output_type": "execute_result"
    }
   ],
   "source": [
    "df.isna().sum()"
   ]
  },
  {
   "cell_type": "code",
   "execution_count": 15,
   "id": "fe5d417b",
   "metadata": {},
   "outputs": [],
   "source": [
    "# Replace label 2(benign) with 0 and label 4(malicious) with 1\n",
    "df.Class = df.Class.replace([2,4],[0,1])"
   ]
  },
  {
   "cell_type": "code",
   "execution_count": 16,
   "id": "a0c12bf5",
   "metadata": {},
   "outputs": [
    {
     "data": {
      "text/html": [
       "<div>\n",
       "<style scoped>\n",
       "    .dataframe tbody tr th:only-of-type {\n",
       "        vertical-align: middle;\n",
       "    }\n",
       "\n",
       "    .dataframe tbody tr th {\n",
       "        vertical-align: top;\n",
       "    }\n",
       "\n",
       "    .dataframe thead th {\n",
       "        text-align: right;\n",
       "    }\n",
       "</style>\n",
       "<table border=\"1\" class=\"dataframe\">\n",
       "  <thead>\n",
       "    <tr style=\"text-align: right;\">\n",
       "      <th></th>\n",
       "      <th>0</th>\n",
       "      <th>1</th>\n",
       "      <th>2</th>\n",
       "      <th>3</th>\n",
       "      <th>4</th>\n",
       "    </tr>\n",
       "  </thead>\n",
       "  <tbody>\n",
       "    <tr>\n",
       "      <th>Id</th>\n",
       "      <td>1000025.0</td>\n",
       "      <td>1002945.0</td>\n",
       "      <td>1015425.0</td>\n",
       "      <td>1016277.0</td>\n",
       "      <td>1017023.0</td>\n",
       "    </tr>\n",
       "    <tr>\n",
       "      <th>Clump_thickness</th>\n",
       "      <td>5.0</td>\n",
       "      <td>5.0</td>\n",
       "      <td>3.0</td>\n",
       "      <td>6.0</td>\n",
       "      <td>4.0</td>\n",
       "    </tr>\n",
       "    <tr>\n",
       "      <th>Uniformity_Cell_Size</th>\n",
       "      <td>1.0</td>\n",
       "      <td>4.0</td>\n",
       "      <td>1.0</td>\n",
       "      <td>8.0</td>\n",
       "      <td>1.0</td>\n",
       "    </tr>\n",
       "    <tr>\n",
       "      <th>Uniformity_Cell_Shape</th>\n",
       "      <td>1.0</td>\n",
       "      <td>4.0</td>\n",
       "      <td>1.0</td>\n",
       "      <td>8.0</td>\n",
       "      <td>1.0</td>\n",
       "    </tr>\n",
       "    <tr>\n",
       "      <th>Marginal_Adhesion</th>\n",
       "      <td>1.0</td>\n",
       "      <td>5.0</td>\n",
       "      <td>1.0</td>\n",
       "      <td>1.0</td>\n",
       "      <td>3.0</td>\n",
       "    </tr>\n",
       "    <tr>\n",
       "      <th>Single_Epithelial_Cell_Size</th>\n",
       "      <td>2.0</td>\n",
       "      <td>7.0</td>\n",
       "      <td>2.0</td>\n",
       "      <td>3.0</td>\n",
       "      <td>2.0</td>\n",
       "    </tr>\n",
       "    <tr>\n",
       "      <th>Bare_Nuclei</th>\n",
       "      <td>1.0</td>\n",
       "      <td>10.0</td>\n",
       "      <td>2.0</td>\n",
       "      <td>4.0</td>\n",
       "      <td>1.0</td>\n",
       "    </tr>\n",
       "    <tr>\n",
       "      <th>Bland_Chromatin</th>\n",
       "      <td>3.0</td>\n",
       "      <td>3.0</td>\n",
       "      <td>3.0</td>\n",
       "      <td>3.0</td>\n",
       "      <td>3.0</td>\n",
       "    </tr>\n",
       "    <tr>\n",
       "      <th>Normal_Nucleoli</th>\n",
       "      <td>1.0</td>\n",
       "      <td>2.0</td>\n",
       "      <td>1.0</td>\n",
       "      <td>7.0</td>\n",
       "      <td>1.0</td>\n",
       "    </tr>\n",
       "    <tr>\n",
       "      <th>Mitoses</th>\n",
       "      <td>1.0</td>\n",
       "      <td>1.0</td>\n",
       "      <td>1.0</td>\n",
       "      <td>1.0</td>\n",
       "      <td>1.0</td>\n",
       "    </tr>\n",
       "    <tr>\n",
       "      <th>Class</th>\n",
       "      <td>0.0</td>\n",
       "      <td>0.0</td>\n",
       "      <td>0.0</td>\n",
       "      <td>0.0</td>\n",
       "      <td>0.0</td>\n",
       "    </tr>\n",
       "  </tbody>\n",
       "</table>\n",
       "</div>"
      ],
      "text/plain": [
       "                                     0          1          2          3  \\\n",
       "Id                           1000025.0  1002945.0  1015425.0  1016277.0   \n",
       "Clump_thickness                    5.0        5.0        3.0        6.0   \n",
       "Uniformity_Cell_Size               1.0        4.0        1.0        8.0   \n",
       "Uniformity_Cell_Shape              1.0        4.0        1.0        8.0   \n",
       "Marginal_Adhesion                  1.0        5.0        1.0        1.0   \n",
       "Single_Epithelial_Cell_Size        2.0        7.0        2.0        3.0   \n",
       "Bare_Nuclei                        1.0       10.0        2.0        4.0   \n",
       "Bland_Chromatin                    3.0        3.0        3.0        3.0   \n",
       "Normal_Nucleoli                    1.0        2.0        1.0        7.0   \n",
       "Mitoses                            1.0        1.0        1.0        1.0   \n",
       "Class                              0.0        0.0        0.0        0.0   \n",
       "\n",
       "                                     4  \n",
       "Id                           1017023.0  \n",
       "Clump_thickness                    4.0  \n",
       "Uniformity_Cell_Size               1.0  \n",
       "Uniformity_Cell_Shape              1.0  \n",
       "Marginal_Adhesion                  3.0  \n",
       "Single_Epithelial_Cell_Size        2.0  \n",
       "Bare_Nuclei                        1.0  \n",
       "Bland_Chromatin                    3.0  \n",
       "Normal_Nucleoli                    1.0  \n",
       "Mitoses                            1.0  \n",
       "Class                              0.0  "
      ]
     },
     "execution_count": 16,
     "metadata": {},
     "output_type": "execute_result"
    }
   ],
   "source": [
    "df.head().T"
   ]
  },
  {
   "cell_type": "code",
   "execution_count": 17,
   "id": "5af994e2",
   "metadata": {},
   "outputs": [
    {
     "data": {
      "text/plain": [
       "0    458\n",
       "1    241\n",
       "Name: Class, dtype: int64"
      ]
     },
     "execution_count": 17,
     "metadata": {},
     "output_type": "execute_result"
    }
   ],
   "source": [
    "df.Class.value_counts()"
   ]
  },
  {
   "cell_type": "code",
   "execution_count": 18,
   "id": "7bde733a",
   "metadata": {},
   "outputs": [
    {
     "data": {
      "text/plain": [
       "(699, 11)"
      ]
     },
     "execution_count": 18,
     "metadata": {},
     "output_type": "execute_result"
    }
   ],
   "source": [
    "df.shape"
   ]
  },
  {
   "cell_type": "code",
   "execution_count": 19,
   "id": "05641211",
   "metadata": {},
   "outputs": [
    {
     "data": {
      "text/plain": [
       "<AxesSubplot:xlabel='Uniformity_Cell_Size', ylabel='count'>"
      ]
     },
     "execution_count": 19,
     "metadata": {},
     "output_type": "execute_result"
    },
    {
     "data": {
      "image/png": "[encoded data removed]",
      "text/plain": [
       "<Figure size 432x288 with 1 Axes>"
      ]
     },
     "metadata": {
      "needs_background": "light"
     },
     "output_type": "display_data"
    }
   ],
   "source": [
    "sns.countplot(x='Uniformity_Cell_Size', hue='Class', data=df)"
   ]
  },
  {
   "cell_type": "code",
   "execution_count": 20,
   "id": "2ebc221f",
   "metadata": {},
   "outputs": [
    {
     "data": {
      "text/plain": [
       "<AxesSubplot:xlabel='Uniformity_Cell_Shape', ylabel='count'>"
      ]
     },
     "execution_count": 20,
     "metadata": {},
     "output_type": "execute_result"
    },
    {
     "data": {
      "image/png": "[encoded data removed]",
      "text/plain": [
       "<Figure size 432x288 with 1 Axes>"
      ]
     },
     "metadata": {
      "needs_background": "light"
     },
     "output_type": "display_data"
    }
   ],
   "source": [
    "sns.countplot(x='Uniformity_Cell_Shape', hue='Class', data=df)"
   ]
  },
  {
   "cell_type": "code",
   "execution_count": 21,
   "id": "9acc2226",
   "metadata": {},
   "outputs": [
    {
     "data": {
      "text/plain": [
       "<AxesSubplot:xlabel='Marginal_Adhesion', ylabel='count'>"
      ]
     },
     "execution_count": 21,
     "metadata": {},
     "output_type": "execute_result"
    },
    {
     "data": {
      "image/png": "[encoded data removed]",
      "text/plain": [
       "<Figure size 432x288 with 1 Axes>"
      ]
     },
     "metadata": {
      "needs_background": "light"
     },
     "output_type": "display_data"
    }
   ],
   "source": [
    "sns.countplot(x='Marginal_Adhesion', hue='Class', data=df)"
   ]
  },
  {
   "cell_type": "code",
   "execution_count": 22,
   "id": "3635768e",
   "metadata": {},
   "outputs": [
    {
     "data": {
      "text/plain": [
       "<AxesSubplot:xlabel='Single_Epithelial_Cell_Size', ylabel='count'>"
      ]
     },
     "execution_count": 22,
     "metadata": {},
     "output_type": "execute_result"
    },
    {
     "data": {
      "image/png": "[encoded data removed]",
      "text/plain": [
       "<Figure size 432x288 with 1 Axes>"
      ]
     },
     "metadata": {
      "needs_background": "light"
     },
     "output_type": "display_data"
    }
   ],
   "source": [
    "sns.countplot(x='Single_Epithelial_Cell_Size', hue='Class', data=df)"
   ]
  },
  {
   "cell_type": "code",
   "execution_count": 23,
   "id": "2e6cea7d",
   "metadata": {},
   "outputs": [
    {
     "data": {
      "text/plain": [
       "<AxesSubplot:xlabel='Bare_Nuclei', ylabel='count'>"
      ]
     },
     "execution_count": 23,
     "metadata": {},
     "output_type": "execute_result"
    },
    {
     "data": {
      "image/png": "[encoded data removed]",
      "text/plain": [
       "<Figure size 432x288 with 1 Axes>"
      ]
     },
     "metadata": {
      "needs_background": "light"
     },
     "output_type": "display_data"
    }
   ],
   "source": [
    "sns.countplot(x='Bare_Nuclei', hue='Class', data=df)"
   ]
  },
  {
   "cell_type": "code",
   "execution_count": 24,
   "id": "6188292f",
   "metadata": {},
   "outputs": [],
   "source": [
    "# Create feature matrix X\n",
    "X = df.drop(['Id', 'Class'], axis=1)\n",
    "\n",
    "# Create Target/labels vector Y\n",
    "Y = df.Class"
   ]
  },
  {
   "cell_type": "code",
   "execution_count": 48,
   "id": "c56e434b",
   "metadata": {},
   "outputs": [
    {
     "data": {
      "text/html": [
       "<div>\n",
       "<style scoped>\n",
       "    .dataframe tbody tr th:only-of-type {\n",
       "        vertical-align: middle;\n",
       "    }\n",
       "\n",
       "    .dataframe tbody tr th {\n",
       "        vertical-align: top;\n",
       "    }\n",
       "\n",
       "    .dataframe thead th {\n",
       "        text-align: right;\n",
       "    }\n",
       "</style>\n",
       "<table border=\"1\" class=\"dataframe\">\n",
       "  <thead>\n",
       "    <tr style=\"text-align: right;\">\n",
       "      <th></th>\n",
       "      <th>Clump_thickness</th>\n",
       "      <th>Uniformity_Cell_Size</th>\n",
       "      <th>Uniformity_Cell_Shape</th>\n",
       "      <th>Marginal_Adhesion</th>\n",
       "      <th>Single_Epithelial_Cell_Size</th>\n",
       "      <th>Bare_Nuclei</th>\n",
       "      <th>Bland_Chromatin</th>\n",
       "      <th>Normal_Nucleoli</th>\n",
       "      <th>Mitoses</th>\n",
       "    </tr>\n",
       "  </thead>\n",
       "  <tbody>\n",
       "    <tr>\n",
       "      <th>0</th>\n",
       "      <td>5</td>\n",
       "      <td>1</td>\n",
       "      <td>1</td>\n",
       "      <td>1</td>\n",
       "      <td>2</td>\n",
       "      <td>1.0</td>\n",
       "      <td>3</td>\n",
       "      <td>1</td>\n",
       "      <td>1</td>\n",
       "    </tr>\n",
       "    <tr>\n",
       "      <th>1</th>\n",
       "      <td>5</td>\n",
       "      <td>4</td>\n",
       "      <td>4</td>\n",
       "      <td>5</td>\n",
       "      <td>7</td>\n",
       "      <td>10.0</td>\n",
       "      <td>3</td>\n",
       "      <td>2</td>\n",
       "      <td>1</td>\n",
       "    </tr>\n",
       "    <tr>\n",
       "      <th>2</th>\n",
       "      <td>3</td>\n",
       "      <td>1</td>\n",
       "      <td>1</td>\n",
       "      <td>1</td>\n",
       "      <td>2</td>\n",
       "      <td>2.0</td>\n",
       "      <td>3</td>\n",
       "      <td>1</td>\n",
       "      <td>1</td>\n",
       "    </tr>\n",
       "    <tr>\n",
       "      <th>3</th>\n",
       "      <td>6</td>\n",
       "      <td>8</td>\n",
       "      <td>8</td>\n",
       "      <td>1</td>\n",
       "      <td>3</td>\n",
       "      <td>4.0</td>\n",
       "      <td>3</td>\n",
       "      <td>7</td>\n",
       "      <td>1</td>\n",
       "    </tr>\n",
       "    <tr>\n",
       "      <th>4</th>\n",
       "      <td>4</td>\n",
       "      <td>1</td>\n",
       "      <td>1</td>\n",
       "      <td>3</td>\n",
       "      <td>2</td>\n",
       "      <td>1.0</td>\n",
       "      <td>3</td>\n",
       "      <td>1</td>\n",
       "      <td>1</td>\n",
       "    </tr>\n",
       "  </tbody>\n",
       "</table>\n",
       "</div>"
      ],
      "text/plain": [
       "   Clump_thickness  Uniformity_Cell_Size  Uniformity_Cell_Shape  \\\n",
       "0                5                     1                      1   \n",
       "1                5                     4                      4   \n",
       "2                3                     1                      1   \n",
       "3                6                     8                      8   \n",
       "4                4                     1                      1   \n",
       "\n",
       "   Marginal_Adhesion  Single_Epithelial_Cell_Size  Bare_Nuclei  \\\n",
       "0                  1                            2          1.0   \n",
       "1                  5                            7         10.0   \n",
       "2                  1                            2          2.0   \n",
       "3                  1                            3          4.0   \n",
       "4                  3                            2          1.0   \n",
       "\n",
       "   Bland_Chromatin  Normal_Nucleoli  Mitoses  \n",
       "0                3                1        1  \n",
       "1                3                2        1  \n",
       "2                3                1        1  \n",
       "3                3                7        1  \n",
       "4                3                1        1  "
      ]
     },
     "execution_count": 48,
     "metadata": {},
     "output_type": "execute_result"
    }
   ],
   "source": [
    "X.head()"
   ]
  },
  {
   "cell_type": "code",
   "execution_count": 26,
   "id": "c25bd87e",
   "metadata": {},
   "outputs": [
    {
     "data": {
      "text/plain": [
       "0    0\n",
       "1    0\n",
       "2    0\n",
       "3    0\n",
       "4    0\n",
       "Name: Class, dtype: int64"
      ]
     },
     "execution_count": 26,
     "metadata": {},
     "output_type": "execute_result"
    }
   ],
   "source": [
    "Y.head()"
   ]
  },
  {
   "cell_type": "markdown",
   "id": "730fb69d",
   "metadata": {},
   "source": [
    "## 2. Data Preparation before Training"
   ]
  },
  {
   "cell_type": "markdown",
   "id": "18faf515",
   "metadata": {},
   "source": [
    "### 2.1 Splitting the Data into Training and Test Sets"
   ]
  },
  {
   "cell_type": "code",
   "execution_count": 27,
   "id": "12831327",
   "metadata": {},
   "outputs": [],
   "source": [
    "from sklearn.model_selection import train_test_split\n",
    "\n",
    "X_train, X_test, y_train, y_test = train_test_split(X, Y, test_size=0.25, random_state=1)"
   ]
  },
  {
   "cell_type": "code",
   "execution_count": 28,
   "id": "8cf497a0",
   "metadata": {},
   "outputs": [
    {
     "data": {
      "text/plain": [
       "((524, 9), (524,))"
      ]
     },
     "execution_count": 28,
     "metadata": {},
     "output_type": "execute_result"
    }
   ],
   "source": [
    "X_train.shape, y_train.shape"
   ]
  },
  {
   "cell_type": "code",
   "execution_count": 29,
   "id": "c7147a9e",
   "metadata": {},
   "outputs": [
    {
     "data": {
      "text/plain": [
       "((175, 9), (175,))"
      ]
     },
     "execution_count": 29,
     "metadata": {},
     "output_type": "execute_result"
    }
   ],
   "source": [
    "X_test.shape, y_test.shape"
   ]
  },
  {
   "cell_type": "markdown",
   "id": "5b001d22",
   "metadata": {},
   "source": [
    "### 2.2 Scaling\n",
    "\n",
    "\n",
    "KNN algorithm works better with feature scaling"
   ]
  },
  {
   "cell_type": "code",
   "execution_count": 30,
   "id": "d5a5bc79",
   "metadata": {},
   "outputs": [],
   "source": [
    "from sklearn.preprocessing import StandardScaler\n",
    "\n",
    "scaler = StandardScaler()\n",
    "X_train = scaler.fit_transform(X_train)\n",
    "X_test = scaler.transform(X_test)"
   ]
  },
  {
   "cell_type": "code",
   "execution_count": 31,
   "id": "94e23baf",
   "metadata": {},
   "outputs": [
    {
     "data": {
      "text/plain": [
       "array([[ 1.24812634, -0.05678383,  0.24996077,  2.17427112, -0.1033122 ,\n",
       "         1.74827555, -0.19529829,  0.02222859, -0.31434315],\n",
       "       [ 1.24812634,  0.59716622,  0.92165021, -0.29790076, -0.1033122 ,\n",
       "         1.74827555,  1.04765279,  0.99287713, -0.31434315],\n",
       "       [ 1.24812634,  1.5780913 ,  1.92918438,  0.40843407,  0.80652967,\n",
       "         1.74827555,  1.46196982,  1.63997616, -0.31434315],\n",
       "       [ 1.24812634,  0.2701912 ,  0.24996077, -0.65106817, -0.55823313,\n",
       "         1.47538416, -0.19529829,  0.02222859, -0.31434315],\n",
       "       [ 1.60453953,  2.23204135,  2.2650291 , -0.65106817,  3.08113433,\n",
       "         1.20249278, -0.19529829,  0.02222859, -0.31434315]])"
      ]
     },
     "execution_count": 31,
     "metadata": {},
     "output_type": "execute_result"
    }
   ],
   "source": [
    "X_train[:5, :]"
   ]
  },
  {
   "cell_type": "markdown",
   "id": "e65db4ca",
   "metadata": {},
   "source": [
    "## 3. KNN Algorithm Implementation"
   ]
  },
  {
   "cell_type": "code",
   "execution_count": 32,
   "id": "5352cdef",
   "metadata": {},
   "outputs": [],
   "source": [
    "def euclidean_distance(X, Y):\n",
    "    \"\"\"\n",
    "    Computes the euclidean distance between X and Y\n",
    "    \"\"\"\n",
    "    return np.sqrt(np.sum((Y-X)**2))"
   ]
  },
  {
   "cell_type": "code",
   "execution_count": 33,
   "id": "5b45db7b",
   "metadata": {},
   "outputs": [],
   "source": [
    "def vote(k_labels):\n",
    "    \"\"\"\n",
    "    The predicted class will be the class the appeared the most in the k_labels\n",
    "    \n",
    "    \"\"\"\n",
    "    vote = defaultdict(int)\n",
    "    for label in k_labels:\n",
    "        vote[label] += 1\n",
    "    max_votes = max(vote.values())\n",
    "    \n",
    "    for class_, vote_ in vote.items():\n",
    "        if vote_ == max_votes:\n",
    "            return class_"
   ]
  },
  {
   "cell_type": "code",
   "execution_count": 34,
   "id": "c118f328",
   "metadata": {},
   "outputs": [],
   "source": [
    "def KNN_one_step(X, feature_matrix, labels, k):\n",
    "    \"\"\"\n",
    "    Performs KNN for one point/vector:\n",
    "    1- Computes the euclidean distance to all the datapoints in the training set\n",
    "    2- Sort the distances in the ascending order and the gets the first k values \n",
    "    with the corresponding classes\n",
    "    3- Voting: predicts the class with the maximum number of votes\n",
    "    \"\"\"\n",
    "    # Computes the euclidean distance between X and all the points in the dataset.\n",
    "    # \"distances is a list of tuples(distance, class)\"\n",
    "    distances = [(euclidean_distance(X,Xi), Yi) for (Xi,Yi) in zip(feature_matrix, labels)]\n",
    "    # Sort the distances in the ascending order\n",
    "    sorted_distances = sorted(distances, key= lambda x:x[0])\n",
    "    # Get the first k labels\n",
    "    k_labels = [label for (_, label) in sorted_distances[:k] ]\n",
    "    # Voting for the first K values in the sorted list\n",
    "    predicted_class = vote(k_labels)\n",
    "    \n",
    "    return predicted_class"
   ]
  },
  {
   "cell_type": "code",
   "execution_count": 35,
   "id": "8bf44a9d",
   "metadata": {},
   "outputs": [],
   "source": [
    "def KNN_algorithm(test_data, feature_matrix, labels, k):\n",
    "    \"\"\"\n",
    "    Performs KNN_one_step on all the test data set and provides the list of predicted \n",
    "    classes/labels\n",
    "    \"\"\"\n",
    "    \n",
    "    predicted_classes = [KNN_one_step(Xi, feature_matrix, labels, k) for Xi in test_data]\n",
    "    \n",
    "    return predicted_classes"
   ]
  },
  {
   "cell_type": "code",
   "execution_count": 36,
   "id": "991240eb",
   "metadata": {},
   "outputs": [],
   "source": [
    "def KNN_accuracy(y_pred, targets):\n",
    "    return np.mean(y_pred == targets)"
   ]
  },
  {
   "cell_type": "code",
   "execution_count": 44,
   "id": "43fa7f6d",
   "metadata": {},
   "outputs": [
    {
     "name": "stdout",
     "output_type": "stream",
     "text": [
      "KNN algorithm: k = 3, accuracy = 0.96\n",
      "KNN algorithm: k = 4, accuracy = 0.9828571428571429\n",
      "KNN algorithm: k = 5, accuracy = 0.9771428571428571\n",
      "KNN algorithm: k = 9, accuracy = 0.9657142857142857\n",
      "KNN algorithm: k = 10, accuracy = 0.9657142857142857\n",
      "KNN algorithm: k = 20, accuracy = 0.9657142857142857\n",
      "KNN algorithm: k = 30, accuracy = 0.96\n"
     ]
    }
   ],
   "source": [
    "k_values = [3,4,5,9,10,20,30]\n",
    "accuracy_list = []\n",
    "for k in k_values:\n",
    "    y_pred = KNN_algorithm(X_test, X_train, y_train, k)\n",
    "    accuracy = KNN_accuracy(y_pred, y_test)\n",
    "    accuracy_list.append(accuracy)\n",
    "    print(f'KNN algorithm: k = {k}, accuracy = {accuracy}')"
   ]
  },
  {
   "cell_type": "code",
   "execution_count": 45,
   "id": "2044bafe",
   "metadata": {
    "scrolled": true
   },
   "outputs": [
    {
     "data": {
      "text/plain": [
       "Text(0, 0.5, 'accuracy')"
      ]
     },
     "execution_count": 45,
     "metadata": {},
     "output_type": "execute_result"
    },
    {
     "data": {
      "image/png": "[encoded data removed]",
      "text/plain": [
       "<Figure size 432x288 with 1 Axes>"
      ]
     },
     "metadata": {
      "needs_background": "light"
     },
     "output_type": "display_data"
    }
   ],
   "source": [
    "# plot accuracy function of k\n",
    "plt.plot(k_values, f1_scores)\n",
    "plt.title('KNN - accuracy function of k')\n",
    "plt.xlabel('k Values')\n",
    "plt.ylabel('accuracy')"
   ]
  },
  {
   "cell_type": "markdown",
   "id": "b9402b9f",
   "metadata": {},
   "source": [
    "**Dimensioanlity Reduction using PCA for Visialization**"
   ]
  },
  {
   "cell_type": "code",
   "execution_count": 69,
   "id": "1d6df009",
   "metadata": {},
   "outputs": [],
   "source": [
    "from sklearn.decomposition import PCA\n",
    "\n",
    "knn_pca = PCA(n_components=2, random_state=0)\n",
    "X_pca = knn_pca.fit_transform(X)"
   ]
  },
  {
   "cell_type": "code",
   "execution_count": 70,
   "id": "7e85120c",
   "metadata": {},
   "outputs": [
    {
     "name": "stdout",
     "output_type": "stream",
     "text": [
      "accuracy: 0.9685264663805436, k: 3\n",
      "accuracy: 0.9742489270386266, k: 4\n",
      "accuracy: 0.9699570815450643, k: 5\n",
      "accuracy: 0.9713876967095851, k: 9\n",
      "accuracy: 0.9728183118741058, k: 10\n",
      "accuracy: 0.9742489270386266, k: 20\n",
      "accuracy: 0.9728183118741058, k: 30\n"
     ]
    },
    {
     "data": {
      "image/png": "[encoded data removed]",
      "text/plain": [
       "<Figure size 1440x1440 with 7 Axes>"
      ]
     },
     "metadata": {
      "needs_background": "light"
     },
     "output_type": "display_data"
    }
   ],
   "source": [
    "# Plot the decision boundary\n",
    "#X_array = np.array(X_pca)\n",
    "X_array = X_pca\n",
    "Y_array = np.array(Y)\n",
    "\n",
    "min1, max1 = X_array[:, 0].min() - 1, X_array[:, 0].max() + 1\n",
    "min2, max2 = X_array[:, 1].min() - 1, X_array[:, 1].max() + 1\n",
    "\n",
    "x1grid = np.arange(min1, max1, 0.9)\n",
    "x2grid = np.arange(min2, max2, 0.9)\n",
    "\n",
    "# create all of the lines and rows of the grid\n",
    "xx, yy = np.meshgrid(x1grid, x2grid)\n",
    "\n",
    "x = np.vstack((X_array[:, 0], X_array[:, 1]))\n",
    "\n",
    "fig = plt.figure(figsize=(20,20))\n",
    "colormap = np.array(['r', 'b'])\n",
    "idx = 1\n",
    "for k in np.array([3,4,5,9,10,20,30]):\n",
    "\n",
    "    cdf = pd.DataFrame({'xx': xx.reshape(-1),\n",
    "                            'yy:': yy.reshape(-1)\n",
    "                            })\n",
    "    predicted_classes = KNN_algorithm(X_array, X_array, Y_array, k)\n",
    "    cdf['prediction'] = KNN_algorithm(np.array(cdf), np.transpose(x), Y_array, k)\n",
    "    accuracy = KNN_accuracy(predicted_classes, Y_array)\n",
    "    print(f'accuracy: {accuracy}, k: {k}')\n",
    "    plt.subplot(3,3,idx)\n",
    "    plt.contourf(xx, yy, cdf['prediction'].values.reshape(xx.shape))\n",
    "        \n",
    "    plt.scatter(X_array[:, 0], X_array[:, 1], c=colormap[Y], marker='+')\n",
    "    plt.title(\"k = \"+ str(k) + \" Accuracy:\" + str(accuracy))\n",
    "    idx += 1\n",
    "plt.show()"
   ]
  },
  {
   "cell_type": "code",
   "execution_count": 41,
   "id": "2901dbbf",
   "metadata": {},
   "outputs": [
    {
     "name": "stdout",
     "output_type": "stream",
     "text": [
      "KNN algorithm: k = 3, accuracy = 0.96, f1_score = 0.9369369369369369\n",
      "KNN algorithm: k = 4, accuracy = 0.96, f1_score = 0.9357798165137614\n",
      "KNN algorithm: k = 5, accuracy = 0.9771428571428571, f1_score = 0.9642857142857142\n",
      "KNN algorithm: k = 9, accuracy = 0.9657142857142857, f1_score = 0.9454545454545454\n",
      "KNN algorithm: k = 10, accuracy = 0.9657142857142857, f1_score = 0.9454545454545454\n",
      "KNN algorithm: k = 20, accuracy = 0.96, f1_score = 0.9357798165137614\n",
      "KNN algorithm: k = 30, accuracy = 0.9542857142857143, f1_score = 0.9259259259259259\n"
     ]
    }
   ],
   "source": [
    "# Using sklearn KNN Classifier\n",
    "from sklearn.neighbors import KNeighborsClassifier\n",
    "from sklearn.metrics import accuracy_score\n",
    "from sklearn.metrics import f1_score\n",
    "\n",
    "f1_scores = []\n",
    "\n",
    "for k in k_values:\n",
    "    # Instantiate the classifier\n",
    "    knn_classifier = KNeighborsClassifier(n_neighbors=k, metric='euclidean')\n",
    "    # fit the training data\n",
    "    knn_classifier.fit(X_train, y_train)\n",
    "    # predict\n",
    "    ypred = knn_classifier.predict(np.array(X_test))\n",
    "    accuracy = accuracy_score(ypred, y_test)\n",
    "    f1 = f1_score(ypred, y_test)\n",
    "    f1_scores.append(f1)\n",
    "    print(f'KNN algorithm: k = {k}, accuracy = {accuracy}, f1_score = {f1}')\n",
    "    \n",
    "    "
   ]
  },
  {
   "cell_type": "code",
   "execution_count": 42,
   "id": "5635d725",
   "metadata": {},
   "outputs": [
    {
     "data": {
      "text/plain": [
       "Text(0, 0.5, 'f1 score')"
      ]
     },
     "execution_count": 42,
     "metadata": {},
     "output_type": "execute_result"
    },
    {
     "data": {
      "image/png": "[encoded data removed]",
      "text/plain": [
       "<Figure size 432x288 with 1 Axes>"
      ]
     },
     "metadata": {
      "needs_background": "light"
     },
     "output_type": "display_data"
    }
   ],
   "source": [
    "# Plot f1 function of k\n",
    "plt.plot(k_values, f1_scores)\n",
    "plt.title('KNN - f1 scores function of k')\n",
    "plt.xlabel('k Values')\n",
    "plt.ylabel('f1 score')"
   ]
  },
  {
   "cell_type": "code",
   "execution_count": 66,
   "id": "ea751184",
   "metadata": {},
   "outputs": [
    {
     "name": "stdout",
     "output_type": "stream",
     "text": [
      "KNN algorithm: k = 5, accuracy = 0.9771428571428571, f1_score = 0.9642857142857142\n",
      "KNN algorithm: k = 5, accuracy = 0.9657142857142857, f1_score = 0.9464285714285715\n",
      "KNN algorithm: k = 5, accuracy = 0.9828571428571429, f1_score = 0.9739130434782608\n",
      "KNN algorithm: k = 5, accuracy = 0.9771428571428571, f1_score = 0.9642857142857142\n"
     ]
    }
   ],
   "source": [
    "# Running KNN for k = 5 and different types of distances\n",
    "\n",
    "dist_ = ['euclidean', 'chebyshev', 'cosine', 'minkowski']\n",
    "f1_scores_ = []\n",
    "\n",
    "for d in dist_:\n",
    "    # Instantiate the classifier\n",
    "    knn_classifier = KNeighborsClassifier(n_neighbors=5, metric=d)\n",
    "    # fit the training data\n",
    "    knn_classifier.fit(X_train, y_train)\n",
    "    # predict\n",
    "    ypred = knn_classifier.predict(np.array(X_test))\n",
    "    accuracy = accuracy_score(ypred, y_test)\n",
    "    f1 = f1_score(ypred, y_test)\n",
    "    f1_scores_.append(f1)\n",
    "    print(f'KNN algorithm: k = 5, accuracy = {accuracy}, f1_score = {f1}')\n",
    "    "
   ]
  },
  {
   "cell_type": "code",
   "execution_count": 68,
   "id": "1a1a7cd7",
   "metadata": {},
   "outputs": [
    {
     "data": {
      "text/plain": [
       "Text(0, 0.5, 'f1 score')"
      ]
     },
     "execution_count": 68,
     "metadata": {},
     "output_type": "execute_result"
    },
    {
     "data": {
      "image/png": "[encoded data removed]",
      "text/plain": [
       "<Figure size 432x288 with 1 Axes>"
      ]
     },
     "metadata": {
      "needs_background": "light"
     },
     "output_type": "display_data"
    }
   ],
   "source": [
    "plt.plot(dist_, f1_scores_)\n",
    "plt.title('KNN - k = 5')\n",
    "plt.ylabel('f1 score')"
   ]
  },
  {
   "cell_type": "code",
   "execution_count": null,
   "id": "d7d59498",
   "metadata": {},
   "outputs": [],
   "source": []
  },
  {
   "cell_type": "code",
   "execution_count": null,
   "id": "39930f62",
   "metadata": {},
   "outputs": [],
   "source": []
  },
  {
   "cell_type": "code",
   "execution_count": null,
   "id": "b9ecb62a",
   "metadata": {},
   "outputs": [],
   "source": []
  },
  {
   "cell_type": "code",
   "execution_count": null,
   "id": "3b6a8d93",
   "metadata": {},
   "outputs": [],
   "source": []
  }
 ],
 "metadata": {
  "kernelspec": {
   "display_name": "Python [conda env:haifaenv] *",
   "language": "python",
   "name": "conda-env-haifaenv-py"
  },
  "language_info": {
   "codemirror_mode": {
    "name": "ipython",
    "version": 3
   },
   "file_extension": ".py",
   "mimetype": "text/x-python",
   "name": "python",
   "nbconvert_exporter": "python",
   "pygments_lexer": "ipython3",
   "version": "3.10.4"
  }
 },
 "nbformat": 4,
 "nbformat_minor": 5
}
